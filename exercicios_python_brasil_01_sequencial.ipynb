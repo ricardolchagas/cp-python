{
 "cells": [
  {
   "cell_type": "markdown",
   "metadata": {},
   "source": [
    "https://wiki.python.org.br/EstruturaSequencial\n"
   ]
  },
  {
   "cell_type": "markdown",
   "metadata": {},
   "source": [
    "Faça um Programa que mostre a mensagem \"Alo mundo\" na tela."
   ]
  },
  {
   "cell_type": "code",
   "execution_count": 2,
   "metadata": {},
   "outputs": [
    {
     "name": "stdout",
     "output_type": "stream",
     "text": [
      "Alo mundo\n"
     ]
    }
   ],
   "source": [
    "print (\"Alo mundo\")"
   ]
  },
  {
   "cell_type": "markdown",
   "metadata": {},
   "source": [
    "Faça um Programa que peça um número e então mostre a mensagem O número informado foi [número]."
   ]
  },
  {
   "cell_type": "code",
   "execution_count": 3,
   "metadata": {},
   "outputs": [
    {
     "name": "stdout",
     "output_type": "stream",
     "text": [
      "o numero digitado foi:  10\n"
     ]
    }
   ],
   "source": [
    "n = input(\"Enter a number: \")\n",
    "print (\"o numero informado foi: \", n)"
   ]
  },
  {
   "cell_type": "markdown",
   "metadata": {},
   "source": [
    "Faça um Programa que peça dois números e imprima a soma."
   ]
  },
  {
   "cell_type": "code",
   "execution_count": 4,
   "metadata": {},
   "outputs": [
    {
     "name": "stdout",
     "output_type": "stream",
     "text": [
      "A soma dos numeros é:  4\n"
     ]
    }
   ],
   "source": [
    "n1 = input(\"Digite o numero 1: \")\n",
    "n2 = input(\"Digite o numero 2: \")\n",
    "\n",
    "print (\"A soma dos numeros é: \", int(n1) + int(n2))"
   ]
  },
  {
   "cell_type": "markdown",
   "metadata": {},
   "source": [
    "Faça um Programa que peça as 4 notas bimestrais e mostre a média."
   ]
  },
  {
   "cell_type": "code",
   "execution_count": 5,
   "metadata": {},
   "outputs": [
    {
     "name": "stdout",
     "output_type": "stream",
     "text": [
      "A media das notas é:  6.5\n"
     ]
    }
   ],
   "source": [
    "nota1 = input(\"Digite a nota 1: \")\n",
    "nota2 = input(\"Digite a nota 2: \")\n",
    "nota3 = input(\"Digite a nota 3: \")\n",
    "nota4 = input(\"Digite a nota 4: \")\n",
    "\n",
    "print (\"A media das notas é: \", (int(nota1) + int(nota2) + int(nota3) + int(nota4)) / 4)\n"
   ]
  },
  {
   "cell_type": "markdown",
   "metadata": {},
   "source": [
    "Faça um Programa que converta metros para centímetros."
   ]
  },
  {
   "cell_type": "code",
   "execution_count": 6,
   "metadata": {},
   "outputs": [
    {
     "name": "stdout",
     "output_type": "stream",
     "text": [
      "A quantidade de metros convertida em centimetros é:  600\n"
     ]
    }
   ],
   "source": [
    "metros = input(\"Digite a quantidade de metros: \")\n",
    "print (\"A quantidade de metros convertida em centimetros é: \", int(metros) * 100)"
   ]
  },
  {
   "cell_type": "markdown",
   "metadata": {},
   "source": [
    "Faça um Programa que peça o raio de um círculo, calcule e mostre sua área."
   ]
  },
  {
   "cell_type": "code",
   "execution_count": 7,
   "metadata": {},
   "outputs": [
    {
     "name": "stdout",
     "output_type": "stream",
     "text": [
      "A área do círculo é:  28.26\n"
     ]
    }
   ],
   "source": [
    "raio = input(\"Digite o raio do círculo: \")\n",
    "print (\"A área do círculo é: \", 3.14 * int(raio) ** 2)"
   ]
  },
  {
   "cell_type": "markdown",
   "metadata": {},
   "source": [
    "Faça um Programa que calcule a área de um quadrado, em seguida mostre o dobro desta área para o usuário."
   ]
  },
  {
   "cell_type": "code",
   "execution_count": 8,
   "metadata": {},
   "outputs": [
    {
     "name": "stdout",
     "output_type": "stream",
     "text": [
      "o dobro da área do quadrado é:  200\n"
     ]
    }
   ],
   "source": [
    "lado = input(\"Digite o lado do quadrado: \")\n",
    "area = int(lado) ** 2\n",
    "print (\"o dobro da área do quadrado é: \", area * 2)\n"
   ]
  },
  {
   "cell_type": "markdown",
   "metadata": {},
   "source": [
    "Faça um Programa que pergunte quanto você ganha por hora e o número de horas trabalhadas no mês. Calcule e mostre o total do seu salário no referido mês."
   ]
  },
  {
   "cell_type": "code",
   "execution_count": 9,
   "metadata": {},
   "outputs": [
    {
     "name": "stdout",
     "output_type": "stream",
     "text": [
      "O salário do mês é:  4000\n"
     ]
    }
   ],
   "source": [
    "valor_hora  = input(\"Digite o valor da hora: \")\n",
    "horas_mes = input(\"Digite a quantidade de horas trabalhadas no mês: \")\n",
    "salario_mes = int(valor_hora) * int(horas_mes)\n",
    "print (\"O salário do mês é: \", salario_mes)"
   ]
  },
  {
   "cell_type": "code",
   "execution_count": null,
   "metadata": {},
   "outputs": [],
   "source": []
  }
 ],
 "metadata": {
  "interpreter": {
   "hash": "0cb379c2287457713d0f7b73ec19bab38cbdbca4e6e2996dda44053b37d73082"
  },
  "kernelspec": {
   "display_name": "Python 3.8.13 ('neo')",
   "language": "python",
   "name": "python3"
  },
  "language_info": {
   "codemirror_mode": {
    "name": "ipython",
    "version": 3
   },
   "file_extension": ".py",
   "mimetype": "text/x-python",
   "name": "python",
   "nbconvert_exporter": "python",
   "pygments_lexer": "ipython3",
   "version": "3.8.13"
  },
  "orig_nbformat": 4
 },
 "nbformat": 4,
 "nbformat_minor": 2
}
