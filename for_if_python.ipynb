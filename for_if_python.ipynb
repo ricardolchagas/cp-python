{
 "cells": [
  {
   "cell_type": "code",
   "execution_count": null,
   "metadata": {},
   "outputs": [],
   "source": []
  },
  {
   "cell_type": "markdown",
   "metadata": {},
   "source": [
    "Estruturas de repeticao \n",
    "For => Foreach do Java, .Net, Javascript \n",
    "While"
   ]
  },
  {
   "cell_type": "code",
   "execution_count": 4,
   "metadata": {},
   "outputs": [
    {
     "name": "stdout",
     "output_type": "stream",
     "text": [
      "11\n",
      "9\n",
      "7\n",
      "5\n",
      "3\n"
     ]
    }
   ],
   "source": [
    "for i in range(11, 1, -2):\n",
    "    print(i)"
   ]
  },
  {
   "cell_type": "code",
   "execution_count": 8,
   "metadata": {},
   "outputs": [],
   "source": [
    "lista = [1, 2]"
   ]
  },
  {
   "cell_type": "code",
   "execution_count": 9,
   "metadata": {},
   "outputs": [
    {
     "name": "stdout",
     "output_type": "stream",
     "text": [
      "1\n",
      "2\n",
      "Lista vazia\n"
     ]
    }
   ],
   "source": [
    "for a in lista:\n",
    "    print(a)\n",
    "else:\n",
    "    print(\"Lista vazia\")"
   ]
  },
  {
   "cell_type": "code",
   "execution_count": 13,
   "metadata": {},
   "outputs": [],
   "source": []
  },
  {
   "cell_type": "code",
   "execution_count": 19,
   "metadata": {},
   "outputs": [
    {
     "name": "stdout",
     "output_type": "stream",
     "text": [
      "4\n",
      "5\n",
      "6\n",
      "7\n",
      "8\n",
      "9\n",
      "10\n"
     ]
    }
   ],
   "source": [
    "ct = 0\n",
    "while True:    \n",
    "    ct += 1\n",
    "    if ct < 4:\n",
    "        continue\n",
    "    print(ct)    \n",
    "    if ct == 10:\n",
    "        break"
   ]
  },
  {
   "cell_type": "code",
   "execution_count": 21,
   "metadata": {},
   "outputs": [
    {
     "name": "stdout",
     "output_type": "stream",
     "text": [
      "4\n",
      "5\n",
      "6\n",
      "7\n",
      "8\n",
      "9\n"
     ]
    }
   ],
   "source": [
    "for i in range(10):\n",
    "    if i < 4:\n",
    "        continue\n",
    "    print(i)\n",
    "    if i == 9:\n",
    "        break"
   ]
  },
  {
   "cell_type": "code",
   "execution_count": 24,
   "metadata": {},
   "outputs": [
    {
     "name": "stdout",
     "output_type": "stream",
     "text": [
      "0 => menor que 4\n",
      "1 => menor que 4\n",
      "2 => menor que 4\n",
      "3 => menor que 4\n",
      "4 => igual a 4\n",
      "5 => maior que 4\n",
      "6 => maior que 4\n",
      "7 => maior que 4\n",
      "8 => maior que 4\n",
      "9 => maior que 4\n"
     ]
    }
   ],
   "source": [
    "for i in range(10):\n",
    "    print (i,'=>', end=' ')\n",
    "    if i < 4:\n",
    "        print ('menor que 4')\n",
    "    elif i == 4:\n",
    "        print ('igual a 4')\n",
    "    else:\n",
    "        print ('maior que 4')\n",
    "    "
   ]
  },
  {
   "cell_type": "code",
   "execution_count": null,
   "metadata": {},
   "outputs": [],
   "source": []
  }
 ],
 "metadata": {
  "interpreter": {
   "hash": "0cb379c2287457713d0f7b73ec19bab38cbdbca4e6e2996dda44053b37d73082"
  },
  "kernelspec": {
   "display_name": "Python 3.8.10 ('neo')",
   "language": "python",
   "name": "python3"
  },
  "language_info": {
   "codemirror_mode": {
    "name": "ipython",
    "version": 3
   },
   "file_extension": ".py",
   "mimetype": "text/x-python",
   "name": "python",
   "nbconvert_exporter": "python",
   "pygments_lexer": "ipython3",
   "version": "3.8.13"
  },
  "orig_nbformat": 4
 },
 "nbformat": 4,
 "nbformat_minor": 2
}
